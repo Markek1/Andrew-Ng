{
 "cells": [
  {
   "cell_type": "code",
   "execution_count": 618,
   "metadata": {},
   "outputs": [
    {
     "data": {
      "image/png": "[encoded data removed]",
      "text/plain": [
       "<Figure size 432x288 with 1 Axes>"
      ]
     },
     "metadata": {
      "needs_background": "light"
     },
     "output_type": "display_data"
    }
   ],
   "source": [
    "#implementation of logistic regression with 1 feature and 2 classes\n",
    "import numpy as np\n",
    "from numpy.random import randn, uniform\n",
    "from numpy import matmul\n",
    "from math import log10\n",
    "import matplotlib.pyplot as plt\n",
    "\n",
    "\n",
    "def vector_sigmoid(vector):\n",
    "    # apply the sigmoid function to all elements of a vector\n",
    "    return 1 / (1 + 2.718 ** -vector)\n",
    "\n",
    "\n",
    "def normalized(vector): \n",
    "    return (vector - min(vector)) / (max(vector) - min(vector))\n",
    "\n",
    "\n",
    "def get_derivative(X, y, theta, theta_index):\n",
    "    # get the partial derivative of the cost function relative to x[theta_index] (for each training example)\n",
    "    return (1 / m) * sum((vector_sigmoid(matmul(X, theta)) - y) * X[:, theta_index])\n",
    "\n",
    "\n",
    "m = 100 #number of training examples\n",
    "m_div = m // 2 # number of examples in each cluster\n",
    "X = np.array((np.ones(m), np.append(randn(m_div), randn(m_div) + uniform(4, 6))))\n",
    "if uniform(0, 1) > 0.5: y = np.append(np.zeros(m_div), np.ones(m_div)) # 50% chance\n",
    "else:                   y = np.append(np.ones(m_div), np.zeros(m_div)) # 50% chance\n",
    "\n",
    "X[1:] = np.array([normalized(x) for x in X[1:]]) # normalize X\n",
    "y = normalized(y)                                # normalize y\n",
    "\n",
    "X = X.T # for easier computation\n",
    "\n",
    "theta = np.full(len(X[0]), 0.5)\n",
    "delta_theta = np.ones(theta.shape)\n",
    "a = 100 # learning rate\n",
    "\n",
    "# i = 0\n",
    "while abs(sum(delta_theta)) > 1 * 10 ** -2: # controls the needed decrease in cost to continue \n",
    "    for t in range(len(delta_theta)):\n",
    "        delta_theta[t] = - a * get_derivative(X, y, theta, t)\n",
    "    theta += delta_theta\n",
    "#     i += 1\n",
    "#     print(i, theta, delta_theta)\n",
    "#     plt.scatter(X[:, 1][: m_div], y[:m_div], color='b')\n",
    "#     plt.scatter(X[:, 1][m_div:], y[m_div:], color='r')\n",
    "\n",
    "#     accuracy = 1000\n",
    "#     sig_x_values = np.arange(0, 1, 1 / accuracy)\n",
    "#     sig_y_values = vector_sigmoid(matmul(np.array([np.ones(accuracy), sig_x_values]).T, theta))\n",
    "\n",
    "#     plt.plot(sig_x_values, sig_y_values, color='black', linewidth='2') # show sigmoid function for range(0, 1)\n",
    "\n",
    "#     divisor_x_values = [sig_x_values[np.where(sig_y_values == min(sig_y_values, key=lambda x:abs(x - 0.5)))]] * 2\n",
    "#     divisor_y_values = [0, 1]\n",
    "#     plt.plot(divisor_x_values, divisor_y_values, color='black', linewidth='1') # show point where the sigmoid function reaches 0.5\n",
    "\n",
    "#     plt.show()\n",
    "#     plt.pause(0.001)\n",
    "#     plt.clf()\n",
    "\n",
    "plt.scatter(X[:, 1][: m_div], y[:m_div], color='b')\n",
    "plt.scatter(X[:, 1][m_div:], y[m_div:], color='r')\n",
    "\n",
    "accuracy = 1000\n",
    "sig_x_values = np.arange(0, 1, 1 / accuracy)\n",
    "sig_y_values = vector_sigmoid(matmul(np.array([np.ones(accuracy), sig_x_values]).T, theta))\n",
    "\n",
    "plt.plot(sig_x_values, sig_y_values, color='black', linewidth='2') # show sigmoid function for range(0, 1)\n",
    "\n",
    "divisor_x_values = [sig_x_values[np.where(sig_y_values == min(sig_y_values, key=lambda x:abs(x - 0.5)))]] * 2\n",
    "divisor_y_values = [0, 1]\n",
    "plt.plot(divisor_x_values, divisor_y_values, color='black', linewidth='1') # show point where the sigmoid function reaches 0.5\n",
    "\n",
    "plt.show()"
   ]
  },
  {
   "cell_type": "code",
   "execution_count": null,
   "metadata": {},
   "outputs": [],
   "source": []
  }
 ],
 "metadata": {
  "kernelspec": {
   "display_name": "Python 3",
   "language": "python",
   "name": "python3"
  },
  "language_info": {
   "codemirror_mode": {
    "name": "ipython",
    "version": 3
   },
   "file_extension": ".py",
   "mimetype": "text/x-python",
   "name": "python",
   "nbconvert_exporter": "python",
   "pygments_lexer": "ipython3",
   "version": "3.7.7"
  }
 },
 "nbformat": 4,
 "nbformat_minor": 4
}
