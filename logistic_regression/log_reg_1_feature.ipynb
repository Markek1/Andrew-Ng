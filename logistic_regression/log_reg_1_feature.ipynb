{
 "cells": [
  {
   "cell_type": "code",
   "execution_count": 362,
   "metadata": {},
   "outputs": [],
   "source": [
    "%config IPCompleter.greedy=True"
   ]
  },
  {
   "cell_type": "code",
   "execution_count": 463,
   "metadata": {},
   "outputs": [
    {
     "name": "stdout",
     "output_type": "stream",
     "text": [
      "[0.73103819 0.8807753  0.95256007 0.0066963 ]\n"
     ]
    },
    {
     "data": {
      "image/png": "[encoded data removed]",
      "text/plain": [
       "<Figure size 432x288 with 1 Axes>"
      ]
     },
     "metadata": {
      "needs_background": "light"
     },
     "output_type": "display_data"
    }
   ],
   "source": [
    "import numpy as np\n",
    "from numpy.random import randn, uniform\n",
    "from numpy import matmul\n",
    "from math import log10\n",
    "import matplotlib.pyplot as plt\n",
    "\n",
    "def vector_sigmoid(vector):\n",
    "    return np.array([1 / (1 + 2.718 ** -x) for x in vector])\n",
    "\n",
    "\n",
    "def normalized(vector): \n",
    "    return (vector - min(vector)) / (max(vector) - min(vector))\n",
    "\n",
    "\n",
    "def get_derivative(X, y, theta, theta_index):\n",
    "    return (1 / m) * sum((vector_sigmoid(matmul(X, theta)) - y) * X[:, theta_index])\n",
    "\n",
    "\n",
    "m = 100\n",
    "X = np.array((np.ones(m), np.append(randn(m // 2), randn(m // 2) + uniform(6, 10))))\n",
    "y = np.append(np.zeros(m // 2), np.ones(m // 2))\n",
    "\n",
    "print(vector_sigmoid([1, 2, 3, -5]))\n",
    "\n",
    "X[1:] = np.array([normalized(x) for x in X[1:]]) # normalize X\n",
    "y = normalized(y)                                # normalize y\n",
    "\n",
    "X = X.T # for easier computation\n",
    "\n",
    "theta = np.full(len(X[0]), 0.5)\n",
    "delta_theta = np.ones(theta.shape)\n",
    "a = 10\n",
    "\n",
    "i = 0\n",
    "while abs(sum(delta_theta)) > 5 * 10 ** -3: # controls the needed decrease in cost to continue \n",
    "    for t in range(len(delta_theta)):\n",
    "        delta_theta[t] = - a * get_derivative(X, y, theta, t)\n",
    "    theta += delta_theta\n",
    "    i += 1\n",
    "#     print(i, theta, delta_theta)\n",
    "#     plt.scatter(X[:, 1][:m // 2], y[:m // 2], color='b')\n",
    "#     plt.scatter(X[:, 1][m // 2:], y[m // 2:], color='r')\n",
    "#     plt.plot(sorted(X[:,1]), vector_sigmoid(matmul(X, theta)), color='black', linewidth='2')\n",
    "#     plt.show()\n",
    "#     plt.pause(0.001)\n",
    "#     plt.clf()\n",
    "\n",
    "plt.scatter(X[:, 1][: m // 2], y[:m // 2], color='b')\n",
    "plt.scatter(X[:, 1][m // 2:], y[m // 2:], color='r')\n",
    "plt.plot(sorted(X[:,1]), vector_sigmoid(matmul(X, theta)), color='black', linewidth='2')\n",
    "plt.show()"
   ]
  },
  {
   "cell_type": "code",
   "execution_count": null,
   "metadata": {},
   "outputs": [],
   "source": []
  }
 ],
 "metadata": {
  "kernelspec": {
   "display_name": "Python 3",
   "language": "python",
   "name": "python3"
  },
  "language_info": {
   "codemirror_mode": {
    "name": "ipython",
    "version": 3
   },
   "file_extension": ".py",
   "mimetype": "text/x-python",
   "name": "python",
   "nbconvert_exporter": "python",
   "pygments_lexer": "ipython3",
   "version": "3.7.7"
  }
 },
 "nbformat": 4,
 "nbformat_minor": 4
}
