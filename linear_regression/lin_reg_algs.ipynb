{
 "cells": [
  {
   "cell_type": "code",
   "execution_count": 49,
   "metadata": {},
   "outputs": [
    {
     "data": {
      "image/png": "[encoded data removed]",
      "text/plain": [
       "<Figure size 432x288 with 1 Axes>"
      ]
     },
     "metadata": {
      "needs_background": "light"
     },
     "output_type": "display_data"
    }
   ],
   "source": [
    "# implementations of linear regression using gradient descent and the normal equation\n",
    "import numpy as np\n",
    "from numpy import matmul\n",
    "from numpy.linalg import pinv\n",
    "from matplotlib import pyplot as plt\n",
    "\n",
    "def lin_reg_grad_des(X, y, a, show_progress=False):\n",
    "    m = len(X[:, 0])\n",
    "\n",
    "    def get_cost():                  return (1 / (2 * m)) * sum((matmul(X, theta) - y) ** 2)\n",
    "    def get_derivative(theta_index): return (1 / m) * sum((matmul(X, theta) - y) * X[:, theta_index])\n",
    "        \n",
    "    theta = np.array([0.5, 0.5])\n",
    "    delta_theta = np.ones(theta.shape)\n",
    "    cost = get_cost()\n",
    "    if show_progress: i = 0\n",
    "\n",
    "    while abs(sum(delta_theta)) > 1 * 10 ** -4: # controls the needed decrease in cost to continue \n",
    "        for t in range(len(delta_theta)):\n",
    "            delta_theta[t] = - a * get_derivative(t)\n",
    "        theta += delta_theta\n",
    "        cost = get_cost()\n",
    "    \n",
    "        if show_progress:\n",
    "            i += 1\n",
    "            print(i, theta, delta_theta, cost)\n",
    "            plt.scatter(X[:, 1], y)\n",
    "            plt.plot(X[:,1], matmul(X, theta), color='orange', linewidth='3')\n",
    "            plt.draw()\n",
    "            plt.pause(0.001)\n",
    "            plt.clf()\n",
    "\n",
    "    return theta\n",
    "\n",
    "\n",
    "def lin_reg_norm_equ(X, y):\n",
    "    theta = matmul(X.T, X)     # calculate theta using normal equation\n",
    "    theta = pinv(theta)        # calculate theta using normal equation\n",
    "    theta = matmul(theta, X.T) # calculate theta using normal equation\n",
    "    theta = matmul(theta, y)   # calculate theta using normal equation\n",
    "    \n",
    "    return theta\n",
    "\n",
    "\n",
    "m = 100 #number of training examples\n",
    "\n",
    "X = np.array([np.ones((m)), np.random.rand(m)]).T # for each subarray [0] is 1 and [1] is a random real number between 0 and 1\n",
    "y = X[:, 1] * np.random.randint(-5, 5) + 0.75 * np.random.randn(m) \n",
    "\n",
    "# for x in X[1:]: x = (x - min(x)) / (max(x) - min(x))  # normalize X\n",
    "y = (y - min(y)) / (max(y) - min(y))                  # normalize y\n",
    "\n",
    "theta_norm_equ = lin_reg_norm_equ(X, y)\n",
    "theta_grad_des = lin_reg_grad_des(X, y, a=1, show_progress=False)\n",
    "\n",
    "plt.scatter(X[:, 1], y)\n",
    "plt.plot(X[:, 1], matmul(X, theta_grad_des), color='g', linewidth='3')\n",
    "plt.plot(X[:, 1], matmul(X, theta_norm_equ), color='r', linewidth='3')\n",
    "plt.show()"
   ]
  }
 ],
 "metadata": {
  "kernelspec": {
   "display_name": "Python 3",
   "language": "python",
   "name": "python3"
  },
  "language_info": {
   "codemirror_mode": {
    "name": "ipython",
    "version": 3
   },
   "file_extension": ".py",
   "mimetype": "text/x-python",
   "name": "python",
   "nbconvert_exporter": "python",
   "pygments_lexer": "ipython3",
   "version": "3.7.7"
  }
 },
 "nbformat": 4,
 "nbformat_minor": 4
}
